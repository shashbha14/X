{
 "cells": [
  {
   "cell_type": "code",
   "execution_count": 6,
   "metadata": {},
   "outputs": [],
   "source": [
    "import pandas as pd\n",
    "from transformers import BertTokenizer, BertForSequenceClassification"
   ]
  },
  {
   "cell_type": "code",
   "execution_count": 7,
   "metadata": {},
   "outputs": [
    {
     "data": {
      "text/html": [
       "<div>\n",
       "<style scoped>\n",
       "    .dataframe tbody tr th:only-of-type {\n",
       "        vertical-align: middle;\n",
       "    }\n",
       "\n",
       "    .dataframe tbody tr th {\n",
       "        vertical-align: top;\n",
       "    }\n",
       "\n",
       "    .dataframe thead th {\n",
       "        text-align: right;\n",
       "    }\n",
       "</style>\n",
       "<table border=\"1\" class=\"dataframe\">\n",
       "  <thead>\n",
       "    <tr style=\"text-align: right;\">\n",
       "      <th></th>\n",
       "      <th>category</th>\n",
       "      <th>sub_category</th>\n",
       "      <th>crimeaditionalinfo</th>\n",
       "      <th>new_category</th>\n",
       "    </tr>\n",
       "  </thead>\n",
       "  <tbody>\n",
       "    <tr>\n",
       "      <th>0</th>\n",
       "      <td>Financial Fraud Crimes</td>\n",
       "      <td>Fraud CallVishing</td>\n",
       "      <td>The above fraudster is continuously messaging ...</td>\n",
       "      <td>Financial Fraud Crimes</td>\n",
       "    </tr>\n",
       "    <tr>\n",
       "      <th>1</th>\n",
       "      <td>Financial Fraud Crimes</td>\n",
       "      <td>Fraud CallVishing</td>\n",
       "      <td>I received a call from lady stating that she w...</td>\n",
       "      <td>Financial Fraud Crimes</td>\n",
       "    </tr>\n",
       "    <tr>\n",
       "      <th>2</th>\n",
       "      <td>Financial Fraud Crimes</td>\n",
       "      <td>UPI Related Frauds</td>\n",
       "      <td>FRAUD \\t UPI PAYTM \\r\\nBANK \\tPunjab National ...</td>\n",
       "      <td>Financial Fraud Crimes</td>\n",
       "    </tr>\n",
       "    <tr>\n",
       "      <th>3</th>\n",
       "      <td>Financial Fraud Crimes</td>\n",
       "      <td>Fraud CallVishing</td>\n",
       "      <td>Sir I am Prabhat Singh jat  An app on playstor...</td>\n",
       "      <td>Financial Fraud Crimes</td>\n",
       "    </tr>\n",
       "    <tr>\n",
       "      <th>4</th>\n",
       "      <td>Financial Fraud Crimes</td>\n",
       "      <td>Internet Banking Related Fraud</td>\n",
       "      <td>FINANCIAL FRAUD  RS</td>\n",
       "      <td>Financial Fraud Crimes</td>\n",
       "    </tr>\n",
       "    <tr>\n",
       "      <th>...</th>\n",
       "      <td>...</td>\n",
       "      <td>...</td>\n",
       "      <td>...</td>\n",
       "      <td>...</td>\n",
       "    </tr>\n",
       "    <tr>\n",
       "      <th>74099</th>\n",
       "      <td>Financial Fraud Crimes</td>\n",
       "      <td>Debit/Credit Card Fraud</td>\n",
       "      <td>I posted add on olx for labour from west Benga...</td>\n",
       "      <td>Financial Fraud Crimes</td>\n",
       "    </tr>\n",
       "    <tr>\n",
       "      <th>74100</th>\n",
       "      <td>Financial Fraud Crimes</td>\n",
       "      <td>Debit/Credit Card Fraud</td>\n",
       "      <td>Victim inform that he purchase some item from ...</td>\n",
       "      <td>Financial Fraud Crimes</td>\n",
       "    </tr>\n",
       "    <tr>\n",
       "      <th>74101</th>\n",
       "      <td>Financial Fraud Crimes</td>\n",
       "      <td>Debit/Credit Card Fraud</td>\n",
       "      <td>nameomsinghdistajmerpsramganjpincode\\r\\ncredit...</td>\n",
       "      <td>Financial Fraud Crimes</td>\n",
       "    </tr>\n",
       "    <tr>\n",
       "      <th>74102</th>\n",
       "      <td>Financial Fraud Crimes</td>\n",
       "      <td>Debit/Credit Card Fraud</td>\n",
       "      <td>Sir Mere Cradit Card se bina shoaping kiye hi ...</td>\n",
       "      <td>Financial Fraud Crimes</td>\n",
       "    </tr>\n",
       "    <tr>\n",
       "      <th>74103</th>\n",
       "      <td>NaN</td>\n",
       "      <td>NaN</td>\n",
       "      <td>NaN</td>\n",
       "      <td>NaN</td>\n",
       "    </tr>\n",
       "  </tbody>\n",
       "</table>\n",
       "<p>74104 rows × 4 columns</p>\n",
       "</div>"
      ],
      "text/plain": [
       "                     category                    sub_category  \\\n",
       "0      Financial Fraud Crimes               Fraud CallVishing   \n",
       "1      Financial Fraud Crimes               Fraud CallVishing   \n",
       "2      Financial Fraud Crimes              UPI Related Frauds   \n",
       "3      Financial Fraud Crimes               Fraud CallVishing   \n",
       "4      Financial Fraud Crimes  Internet Banking Related Fraud   \n",
       "...                       ...                             ...   \n",
       "74099  Financial Fraud Crimes         Debit/Credit Card Fraud   \n",
       "74100  Financial Fraud Crimes         Debit/Credit Card Fraud   \n",
       "74101  Financial Fraud Crimes         Debit/Credit Card Fraud   \n",
       "74102  Financial Fraud Crimes         Debit/Credit Card Fraud   \n",
       "74103                     NaN                             NaN   \n",
       "\n",
       "                                      crimeaditionalinfo  \\\n",
       "0      The above fraudster is continuously messaging ...   \n",
       "1      I received a call from lady stating that she w...   \n",
       "2      FRAUD \\t UPI PAYTM \\r\\nBANK \\tPunjab National ...   \n",
       "3      Sir I am Prabhat Singh jat  An app on playstor...   \n",
       "4                                   FINANCIAL FRAUD  RS    \n",
       "...                                                  ...   \n",
       "74099  I posted add on olx for labour from west Benga...   \n",
       "74100  Victim inform that he purchase some item from ...   \n",
       "74101  nameomsinghdistajmerpsramganjpincode\\r\\ncredit...   \n",
       "74102  Sir Mere Cradit Card se bina shoaping kiye hi ...   \n",
       "74103                                                NaN   \n",
       "\n",
       "                 new_category  \n",
       "0      Financial Fraud Crimes  \n",
       "1      Financial Fraud Crimes  \n",
       "2      Financial Fraud Crimes  \n",
       "3      Financial Fraud Crimes  \n",
       "4      Financial Fraud Crimes  \n",
       "...                       ...  \n",
       "74099  Financial Fraud Crimes  \n",
       "74100  Financial Fraud Crimes  \n",
       "74101  Financial Fraud Crimes  \n",
       "74102  Financial Fraud Crimes  \n",
       "74103                     NaN  \n",
       "\n",
       "[74104 rows x 4 columns]"
      ]
     },
     "execution_count": 7,
     "metadata": {},
     "output_type": "execute_result"
    }
   ],
   "source": [
    "df = pd.read_csv(r'\\Users\\AIDL-LAB\\Desktop\\Dashan\\dataset\\fin.csv', encoding='utf-8')\n",
    "df"
   ]
  },
  {
   "cell_type": "code",
   "execution_count": 8,
   "metadata": {},
   "outputs": [],
   "source": [
    "df['cleaned_text'] = df['crimeaditionalinfo'].str.lower()\n",
    "df['cleaned_text'] = df['cleaned_text'].str.replace(r'\\r\\n\\t', ' ', regex=True)\n",
    "df['cleaned_text'] = df['cleaned_text'].str.strip()"
   ]
  },
  {
   "cell_type": "code",
   "execution_count": 9,
   "metadata": {},
   "outputs": [],
   "source": [
    "df = df.dropna(subset=['crimeaditionalinfo'])\n",
    "df = df.dropna(subset=['cleaned_text'])"
   ]
  },
  {
   "cell_type": "code",
   "execution_count": 10,
   "metadata": {},
   "outputs": [],
   "source": [
    "df = df.drop_duplicates()"
   ]
  },
  {
   "cell_type": "code",
   "execution_count": 11,
   "metadata": {},
   "outputs": [
    {
     "data": {
      "text/plain": [
       "0"
      ]
     },
     "execution_count": 11,
     "metadata": {},
     "output_type": "execute_result"
    }
   ],
   "source": [
    "df['crimeaditionalinfo'].isna().sum()"
   ]
  },
  {
   "cell_type": "code",
   "execution_count": 12,
   "metadata": {},
   "outputs": [
    {
     "data": {
      "text/plain": [
       "category\n",
       "Financial Fraud Crimes    73285\n",
       "dtype: int64"
      ]
     },
     "execution_count": 12,
     "metadata": {},
     "output_type": "execute_result"
    }
   ],
   "source": [
    "df.groupby('category').size()"
   ]
  },
  {
   "cell_type": "code",
   "execution_count": 13,
   "metadata": {},
   "outputs": [
    {
     "data": {
      "text/html": [
       "<div>\n",
       "<style scoped>\n",
       "    .dataframe tbody tr th:only-of-type {\n",
       "        vertical-align: middle;\n",
       "    }\n",
       "\n",
       "    .dataframe tbody tr th {\n",
       "        vertical-align: top;\n",
       "    }\n",
       "\n",
       "    .dataframe thead th {\n",
       "        text-align: right;\n",
       "    }\n",
       "</style>\n",
       "<table border=\"1\" class=\"dataframe\">\n",
       "  <thead>\n",
       "    <tr style=\"text-align: right;\">\n",
       "      <th></th>\n",
       "      <th>category</th>\n",
       "      <th>sub_category</th>\n",
       "      <th>crimeaditionalinfo</th>\n",
       "      <th>new_category</th>\n",
       "      <th>cleaned_text</th>\n",
       "    </tr>\n",
       "  </thead>\n",
       "  <tbody>\n",
       "    <tr>\n",
       "      <th>0</th>\n",
       "      <td>Financial Fraud Crimes</td>\n",
       "      <td>Fraud CallVishing</td>\n",
       "      <td>The above fraudster is continuously messaging ...</td>\n",
       "      <td>Financial Fraud Crimes</td>\n",
       "      <td>the above fraudster is continuously messaging ...</td>\n",
       "    </tr>\n",
       "    <tr>\n",
       "      <th>1</th>\n",
       "      <td>Financial Fraud Crimes</td>\n",
       "      <td>Fraud CallVishing</td>\n",
       "      <td>I received a call from lady stating that she w...</td>\n",
       "      <td>Financial Fraud Crimes</td>\n",
       "      <td>i received a call from lady stating that she w...</td>\n",
       "    </tr>\n",
       "    <tr>\n",
       "      <th>2</th>\n",
       "      <td>Financial Fraud Crimes</td>\n",
       "      <td>UPI Related Frauds</td>\n",
       "      <td>FRAUD \\t UPI PAYTM \\r\\nBANK \\tPunjab National ...</td>\n",
       "      <td>Financial Fraud Crimes</td>\n",
       "      <td>fraud \\t upi paytm \\r\\nbank \\tpunjab national ...</td>\n",
       "    </tr>\n",
       "    <tr>\n",
       "      <th>3</th>\n",
       "      <td>Financial Fraud Crimes</td>\n",
       "      <td>Fraud CallVishing</td>\n",
       "      <td>Sir I am Prabhat Singh jat  An app on playstor...</td>\n",
       "      <td>Financial Fraud Crimes</td>\n",
       "      <td>sir i am prabhat singh jat  an app on playstor...</td>\n",
       "    </tr>\n",
       "    <tr>\n",
       "      <th>4</th>\n",
       "      <td>Financial Fraud Crimes</td>\n",
       "      <td>Internet Banking Related Fraud</td>\n",
       "      <td>FINANCIAL FRAUD  RS</td>\n",
       "      <td>Financial Fraud Crimes</td>\n",
       "      <td>financial fraud  rs</td>\n",
       "    </tr>\n",
       "    <tr>\n",
       "      <th>...</th>\n",
       "      <td>...</td>\n",
       "      <td>...</td>\n",
       "      <td>...</td>\n",
       "      <td>...</td>\n",
       "      <td>...</td>\n",
       "    </tr>\n",
       "    <tr>\n",
       "      <th>74098</th>\n",
       "      <td>Financial Fraud Crimes</td>\n",
       "      <td>Debit/Credit Card Fraud</td>\n",
       "      <td>name  ishwar chand   phone no    gmail id  ish...</td>\n",
       "      <td>Financial Fraud Crimes</td>\n",
       "      <td>name  ishwar chand   phone no    gmail id  ish...</td>\n",
       "    </tr>\n",
       "    <tr>\n",
       "      <th>74099</th>\n",
       "      <td>Financial Fraud Crimes</td>\n",
       "      <td>Debit/Credit Card Fraud</td>\n",
       "      <td>I posted add on olx for labour from west Benga...</td>\n",
       "      <td>Financial Fraud Crimes</td>\n",
       "      <td>i posted add on olx for labour from west benga...</td>\n",
       "    </tr>\n",
       "    <tr>\n",
       "      <th>74100</th>\n",
       "      <td>Financial Fraud Crimes</td>\n",
       "      <td>Debit/Credit Card Fraud</td>\n",
       "      <td>Victim inform that he purchase some item from ...</td>\n",
       "      <td>Financial Fraud Crimes</td>\n",
       "      <td>victim inform that he purchase some item from ...</td>\n",
       "    </tr>\n",
       "    <tr>\n",
       "      <th>74101</th>\n",
       "      <td>Financial Fraud Crimes</td>\n",
       "      <td>Debit/Credit Card Fraud</td>\n",
       "      <td>nameomsinghdistajmerpsramganjpincode\\r\\ncredit...</td>\n",
       "      <td>Financial Fraud Crimes</td>\n",
       "      <td>nameomsinghdistajmerpsramganjpincode\\r\\ncredit...</td>\n",
       "    </tr>\n",
       "    <tr>\n",
       "      <th>74102</th>\n",
       "      <td>Financial Fraud Crimes</td>\n",
       "      <td>Debit/Credit Card Fraud</td>\n",
       "      <td>Sir Mere Cradit Card se bina shoaping kiye hi ...</td>\n",
       "      <td>Financial Fraud Crimes</td>\n",
       "      <td>sir mere cradit card se bina shoaping kiye hi ...</td>\n",
       "    </tr>\n",
       "  </tbody>\n",
       "</table>\n",
       "<p>73285 rows × 5 columns</p>\n",
       "</div>"
      ],
      "text/plain": [
       "                     category                    sub_category  \\\n",
       "0      Financial Fraud Crimes               Fraud CallVishing   \n",
       "1      Financial Fraud Crimes               Fraud CallVishing   \n",
       "2      Financial Fraud Crimes              UPI Related Frauds   \n",
       "3      Financial Fraud Crimes               Fraud CallVishing   \n",
       "4      Financial Fraud Crimes  Internet Banking Related Fraud   \n",
       "...                       ...                             ...   \n",
       "74098  Financial Fraud Crimes         Debit/Credit Card Fraud   \n",
       "74099  Financial Fraud Crimes         Debit/Credit Card Fraud   \n",
       "74100  Financial Fraud Crimes         Debit/Credit Card Fraud   \n",
       "74101  Financial Fraud Crimes         Debit/Credit Card Fraud   \n",
       "74102  Financial Fraud Crimes         Debit/Credit Card Fraud   \n",
       "\n",
       "                                      crimeaditionalinfo  \\\n",
       "0      The above fraudster is continuously messaging ...   \n",
       "1      I received a call from lady stating that she w...   \n",
       "2      FRAUD \\t UPI PAYTM \\r\\nBANK \\tPunjab National ...   \n",
       "3      Sir I am Prabhat Singh jat  An app on playstor...   \n",
       "4                                   FINANCIAL FRAUD  RS    \n",
       "...                                                  ...   \n",
       "74098  name  ishwar chand   phone no    gmail id  ish...   \n",
       "74099  I posted add on olx for labour from west Benga...   \n",
       "74100  Victim inform that he purchase some item from ...   \n",
       "74101  nameomsinghdistajmerpsramganjpincode\\r\\ncredit...   \n",
       "74102  Sir Mere Cradit Card se bina shoaping kiye hi ...   \n",
       "\n",
       "                 new_category  \\\n",
       "0      Financial Fraud Crimes   \n",
       "1      Financial Fraud Crimes   \n",
       "2      Financial Fraud Crimes   \n",
       "3      Financial Fraud Crimes   \n",
       "4      Financial Fraud Crimes   \n",
       "...                       ...   \n",
       "74098  Financial Fraud Crimes   \n",
       "74099  Financial Fraud Crimes   \n",
       "74100  Financial Fraud Crimes   \n",
       "74101  Financial Fraud Crimes   \n",
       "74102  Financial Fraud Crimes   \n",
       "\n",
       "                                            cleaned_text  \n",
       "0      the above fraudster is continuously messaging ...  \n",
       "1      i received a call from lady stating that she w...  \n",
       "2      fraud \\t upi paytm \\r\\nbank \\tpunjab national ...  \n",
       "3      sir i am prabhat singh jat  an app on playstor...  \n",
       "4                                    financial fraud  rs  \n",
       "...                                                  ...  \n",
       "74098  name  ishwar chand   phone no    gmail id  ish...  \n",
       "74099  i posted add on olx for labour from west benga...  \n",
       "74100  victim inform that he purchase some item from ...  \n",
       "74101  nameomsinghdistajmerpsramganjpincode\\r\\ncredit...  \n",
       "74102  sir mere cradit card se bina shoaping kiye hi ...  \n",
       "\n",
       "[73285 rows x 5 columns]"
      ]
     },
     "execution_count": 13,
     "metadata": {},
     "output_type": "execute_result"
    }
   ],
   "source": [
    "\n",
    "df"
   ]
  },
  {
   "cell_type": "code",
   "execution_count": 14,
   "metadata": {},
   "outputs": [
    {
     "data": {
      "text/plain": [
       "sub_category\n",
       "Aadhaar Enabled Payment System (AEPS) Fraud     3987\n",
       "Business Email CompromiseEmail Takeover          380\n",
       "Debit/Credit Card Fraud                        11956\n",
       "DematDepository Fraud                            973\n",
       "EWallet Related Fraud                           5311\n",
       "Fraud CallVishing                               7589\n",
       "Internet Banking Related Fraud                 10735\n",
       "SIM Swap Fraud                                  1300\n",
       "UPI Related Frauds                             31054\n",
       "dtype: int64"
      ]
     },
     "execution_count": 14,
     "metadata": {},
     "output_type": "execute_result"
    }
   ],
   "source": [
    "df.groupby('sub_category').size()"
   ]
  },
  {
   "cell_type": "code",
   "execution_count": 15,
   "metadata": {},
   "outputs": [],
   "source": [
    "def resample_data(df, undersample_threshold, oversample_threshold):\n",
    "\n",
    "    resampled_dfs = []\n",
    "\n",
    "    counts = df['sub_category'].value_counts()\n",
    "\n",
    "    for sub_cat, count in counts.items():\n",
    "        sub_cat_data = df[df['sub_category'] == sub_cat]\n",
    "\n",
    "        if count > undersample_threshold:\n",
    "            undersampled_data = sub_cat_data.sample(undersample_threshold, random_state=42)\n",
    "            resampled_dfs.append(undersampled_data)\n",
    "        elif count < oversample_threshold:\n",
    "            oversampled_data = sub_cat_data.sample(oversample_threshold, replace=True, random_state=42)\n",
    "            resampled_dfs.append(oversampled_data)\n",
    "        else:\n",
    "            resampled_dfs.append(sub_cat_data)\n",
    "\n",
    "    balanced_df = pd.concat(resampled_dfs, ignore_index=True)\n",
    "    \n",
    "    return balanced_df"
   ]
  },
  {
   "cell_type": "code",
   "execution_count": 16,
   "metadata": {},
   "outputs": [],
   "source": [
    "df = resample_data(df,31054,22000) "
   ]
  },
  {
   "cell_type": "code",
   "execution_count": 17,
   "metadata": {},
   "outputs": [
    {
     "data": {
      "text/plain": [
       "sub_category\n",
       "Aadhaar Enabled Payment System (AEPS) Fraud    22000\n",
       "Business Email CompromiseEmail Takeover        22000\n",
       "Debit/Credit Card Fraud                        22000\n",
       "DematDepository Fraud                          22000\n",
       "EWallet Related Fraud                          22000\n",
       "Fraud CallVishing                              22000\n",
       "Internet Banking Related Fraud                 22000\n",
       "SIM Swap Fraud                                 22000\n",
       "UPI Related Frauds                             31054\n",
       "dtype: int64"
      ]
     },
     "execution_count": 17,
     "metadata": {},
     "output_type": "execute_result"
    }
   ],
   "source": [
    "df.groupby('sub_category').size()"
   ]
  },
  {
   "cell_type": "code",
   "execution_count": 18,
   "metadata": {},
   "outputs": [
    {
     "data": {
      "text/html": [
       "<div>\n",
       "<style scoped>\n",
       "    .dataframe tbody tr th:only-of-type {\n",
       "        vertical-align: middle;\n",
       "    }\n",
       "\n",
       "    .dataframe tbody tr th {\n",
       "        vertical-align: top;\n",
       "    }\n",
       "\n",
       "    .dataframe thead tr th {\n",
       "        text-align: left;\n",
       "    }\n",
       "\n",
       "    .dataframe thead tr:last-of-type th {\n",
       "        text-align: right;\n",
       "    }\n",
       "</style>\n",
       "<table border=\"1\" class=\"dataframe\">\n",
       "  <thead>\n",
       "    <tr>\n",
       "      <th></th>\n",
       "      <th colspan=\"8\" halign=\"left\">label</th>\n",
       "    </tr>\n",
       "    <tr>\n",
       "      <th></th>\n",
       "      <th>count</th>\n",
       "      <th>mean</th>\n",
       "      <th>std</th>\n",
       "      <th>min</th>\n",
       "      <th>25%</th>\n",
       "      <th>50%</th>\n",
       "      <th>75%</th>\n",
       "      <th>max</th>\n",
       "    </tr>\n",
       "    <tr>\n",
       "      <th>sub_category</th>\n",
       "      <th></th>\n",
       "      <th></th>\n",
       "      <th></th>\n",
       "      <th></th>\n",
       "      <th></th>\n",
       "      <th></th>\n",
       "      <th></th>\n",
       "      <th></th>\n",
       "    </tr>\n",
       "  </thead>\n",
       "  <tbody>\n",
       "    <tr>\n",
       "      <th>Aadhaar Enabled Payment System (AEPS) Fraud</th>\n",
       "      <td>22000.0</td>\n",
       "      <td>0.0</td>\n",
       "      <td>0.0</td>\n",
       "      <td>0.0</td>\n",
       "      <td>0.0</td>\n",
       "      <td>0.0</td>\n",
       "      <td>0.0</td>\n",
       "      <td>0.0</td>\n",
       "    </tr>\n",
       "    <tr>\n",
       "      <th>Business Email CompromiseEmail Takeover</th>\n",
       "      <td>22000.0</td>\n",
       "      <td>1.0</td>\n",
       "      <td>0.0</td>\n",
       "      <td>1.0</td>\n",
       "      <td>1.0</td>\n",
       "      <td>1.0</td>\n",
       "      <td>1.0</td>\n",
       "      <td>1.0</td>\n",
       "    </tr>\n",
       "    <tr>\n",
       "      <th>Debit/Credit Card Fraud</th>\n",
       "      <td>22000.0</td>\n",
       "      <td>2.0</td>\n",
       "      <td>0.0</td>\n",
       "      <td>2.0</td>\n",
       "      <td>2.0</td>\n",
       "      <td>2.0</td>\n",
       "      <td>2.0</td>\n",
       "      <td>2.0</td>\n",
       "    </tr>\n",
       "    <tr>\n",
       "      <th>DematDepository Fraud</th>\n",
       "      <td>22000.0</td>\n",
       "      <td>3.0</td>\n",
       "      <td>0.0</td>\n",
       "      <td>3.0</td>\n",
       "      <td>3.0</td>\n",
       "      <td>3.0</td>\n",
       "      <td>3.0</td>\n",
       "      <td>3.0</td>\n",
       "    </tr>\n",
       "    <tr>\n",
       "      <th>EWallet Related Fraud</th>\n",
       "      <td>22000.0</td>\n",
       "      <td>4.0</td>\n",
       "      <td>0.0</td>\n",
       "      <td>4.0</td>\n",
       "      <td>4.0</td>\n",
       "      <td>4.0</td>\n",
       "      <td>4.0</td>\n",
       "      <td>4.0</td>\n",
       "    </tr>\n",
       "    <tr>\n",
       "      <th>Fraud CallVishing</th>\n",
       "      <td>22000.0</td>\n",
       "      <td>5.0</td>\n",
       "      <td>0.0</td>\n",
       "      <td>5.0</td>\n",
       "      <td>5.0</td>\n",
       "      <td>5.0</td>\n",
       "      <td>5.0</td>\n",
       "      <td>5.0</td>\n",
       "    </tr>\n",
       "    <tr>\n",
       "      <th>Internet Banking Related Fraud</th>\n",
       "      <td>22000.0</td>\n",
       "      <td>6.0</td>\n",
       "      <td>0.0</td>\n",
       "      <td>6.0</td>\n",
       "      <td>6.0</td>\n",
       "      <td>6.0</td>\n",
       "      <td>6.0</td>\n",
       "      <td>6.0</td>\n",
       "    </tr>\n",
       "    <tr>\n",
       "      <th>SIM Swap Fraud</th>\n",
       "      <td>22000.0</td>\n",
       "      <td>7.0</td>\n",
       "      <td>0.0</td>\n",
       "      <td>7.0</td>\n",
       "      <td>7.0</td>\n",
       "      <td>7.0</td>\n",
       "      <td>7.0</td>\n",
       "      <td>7.0</td>\n",
       "    </tr>\n",
       "    <tr>\n",
       "      <th>UPI Related Frauds</th>\n",
       "      <td>31054.0</td>\n",
       "      <td>8.0</td>\n",
       "      <td>0.0</td>\n",
       "      <td>8.0</td>\n",
       "      <td>8.0</td>\n",
       "      <td>8.0</td>\n",
       "      <td>8.0</td>\n",
       "      <td>8.0</td>\n",
       "    </tr>\n",
       "  </tbody>\n",
       "</table>\n",
       "</div>"
      ],
      "text/plain": [
       "                                               label                           \\\n",
       "                                               count mean  std  min  25%  50%   \n",
       "sub_category                                                                    \n",
       "Aadhaar Enabled Payment System (AEPS) Fraud  22000.0  0.0  0.0  0.0  0.0  0.0   \n",
       "Business Email CompromiseEmail Takeover      22000.0  1.0  0.0  1.0  1.0  1.0   \n",
       "Debit/Credit Card Fraud                      22000.0  2.0  0.0  2.0  2.0  2.0   \n",
       "DematDepository Fraud                        22000.0  3.0  0.0  3.0  3.0  3.0   \n",
       "EWallet Related Fraud                        22000.0  4.0  0.0  4.0  4.0  4.0   \n",
       "Fraud CallVishing                            22000.0  5.0  0.0  5.0  5.0  5.0   \n",
       "Internet Banking Related Fraud               22000.0  6.0  0.0  6.0  6.0  6.0   \n",
       "SIM Swap Fraud                               22000.0  7.0  0.0  7.0  7.0  7.0   \n",
       "UPI Related Frauds                           31054.0  8.0  0.0  8.0  8.0  8.0   \n",
       "\n",
       "                                                       \n",
       "                                             75%  max  \n",
       "sub_category                                           \n",
       "Aadhaar Enabled Payment System (AEPS) Fraud  0.0  0.0  \n",
       "Business Email CompromiseEmail Takeover      1.0  1.0  \n",
       "Debit/Credit Card Fraud                      2.0  2.0  \n",
       "DematDepository Fraud                        3.0  3.0  \n",
       "EWallet Related Fraud                        4.0  4.0  \n",
       "Fraud CallVishing                            5.0  5.0  \n",
       "Internet Banking Related Fraud               6.0  6.0  \n",
       "SIM Swap Fraud                               7.0  7.0  \n",
       "UPI Related Frauds                           8.0  8.0  "
      ]
     },
     "execution_count": 18,
     "metadata": {},
     "output_type": "execute_result"
    }
   ],
   "source": [
    "df.loc[:, 'label'] = df['sub_category'].astype('category').cat.codes\n",
    "df.groupby('sub_category').describe()"
   ]
  },
  {
   "cell_type": "code",
   "execution_count": 19,
   "metadata": {},
   "outputs": [
    {
     "name": "stderr",
     "output_type": "stream",
     "text": [
      "Some weights of BertForSequenceClassification were not initialized from the model checkpoint at bert-base-uncased and are newly initialized: ['classifier.bias', 'classifier.weight']\n",
      "You should probably TRAIN this model on a down-stream task to be able to use it for predictions and inference.\n"
     ]
    }
   ],
   "source": [
    "tokenizer = BertTokenizer.from_pretrained('bert-base-uncased')\n",
    "model = BertForSequenceClassification.from_pretrained('bert-base-uncased', num_labels=len(df['label'].unique()))"
   ]
  },
  {
   "cell_type": "code",
   "execution_count": 20,
   "metadata": {},
   "outputs": [],
   "source": [
    "MAX_LEN = 256\n",
    "BATCH_SIZE = 16\n",
    "LEARNING_RATE = 2e-5\n",
    "EPOCHS = 6"
   ]
  },
  {
   "cell_type": "code",
   "execution_count": 21,
   "metadata": {},
   "outputs": [],
   "source": [
    "texts = df['cleaned_text'].tolist() \n",
    "labels = df['label'].tolist()"
   ]
  },
  {
   "cell_type": "code",
   "execution_count": 22,
   "metadata": {},
   "outputs": [],
   "source": [
    "import pandas as pd\n",
    "import torch\n",
    "from torch.utils.data import DataLoader, Dataset, RandomSampler, SequentialSampler\n",
    "from transformers import BertTokenizer, BertForSequenceClassification, AdamW, get_linear_schedule_with_warmup\n",
    "from sklearn.metrics import accuracy_score, f1_score\n",
    "from sklearn.model_selection import train_test_split\n",
    "from tqdm import tqdm\n",
    "import numpy as np\n",
    "from torch.optim import AdamW\n",
    "from torch.optim import AdamW as TorchAdamW \n",
    "from sklearn.metrics import accuracy_score, precision_score, recall_score, f1_score\n",
    "import torch.nn.functional as F\n",
    "\n",
    "\n",
    "class TextDataset(Dataset):\n",
    "    def __init__(self, texts, labels, tokenizer, max_len):\n",
    "        self.texts = texts\n",
    "        self.labels = labels\n",
    "        self.tokenizer = tokenizer\n",
    "        self.max_len = max_len\n",
    "        self.indices = list(range(len(texts))) \n",
    "\n",
    "    def __len__(self):\n",
    "        return len(self.texts)\n",
    "\n",
    "    def __getitem__(self, idx):\n",
    "        text = self.texts[idx]\n",
    "        label = self.labels[idx]\n",
    "        index = self.indices[idx]  \n",
    "        encoding = self.tokenizer.encode_plus(\n",
    "            text,\n",
    "            add_special_tokens=True,\n",
    "            max_length=self.max_len,\n",
    "            truncation=True,\n",
    "            padding='max_length',\n",
    "            return_attention_mask=True,\n",
    "            return_tensors='pt'\n",
    "        )\n",
    "        return {\n",
    "            'input_ids': encoding['input_ids'].flatten(),\n",
    "            'attention_mask': encoding['attention_mask'].flatten(),\n",
    "            'labels': torch.tensor(label, dtype=torch.long),\n",
    "            'indices': torch.tensor(index, dtype=torch.long) \n",
    "        }\n"
   ]
  },
  {
   "cell_type": "code",
   "execution_count": 23,
   "metadata": {},
   "outputs": [],
   "source": [
    "\n",
    "from torch.utils.data import DataLoader, Dataset, RandomSampler, SequentialSampler\n",
    "from torch.optim import AdamW as TorchAdamM\n",
    "from transformers import get_linear_schedule_with_warmup\n",
    "import torch\n",
    "from sklearn.model_selection import train_test_split\n",
    "\n",
    "train_texts, val_texts, train_labels, val_labels = train_test_split(\n",
    "    texts, labels, test_size=0.25, random_state=42\n",
    ")\n",
    "train_dataset = TextDataset(train_texts, train_labels, tokenizer, MAX_LEN)\n",
    "val_dataset = TextDataset(val_texts, val_labels, tokenizer, MAX_LEN)\n",
    "\n",
    "train_loader = DataLoader(train_dataset, sampler=RandomSampler(train_dataset), batch_size=BATCH_SIZE)\n",
    "val_loader = DataLoader(val_dataset, sampler=SequentialSampler(val_dataset), batch_size=BATCH_SIZE)\n",
    "\n",
    "optimizer = torch.optim.AdamW(model.parameters(), lr=LEARNING_RATE, weight_decay=0.01)\n",
    "total_steps = len(train_loader) * EPOCHS\n",
    "scheduler = get_linear_schedule_with_warmup(optimizer, num_warmup_steps=int(0.1 * total_steps), num_training_steps=total_steps)"
   ]
  },
  {
   "cell_type": "code",
   "execution_count": 24,
   "metadata": {},
   "outputs": [
    {
     "data": {
      "text/plain": [
       "device(type='cuda')"
      ]
     },
     "execution_count": 24,
     "metadata": {},
     "output_type": "execute_result"
    }
   ],
   "source": [
    "device = torch.device(\"cuda\" if torch.cuda.is_available() else \"cpu\")\n",
    "model.to(device)\n",
    "device"
   ]
  },
  {
   "cell_type": "code",
   "execution_count": 61,
   "metadata": {},
   "outputs": [
    {
     "name": "stdout",
     "output_type": "stream",
     "text": [
      "\n",
      "Epoch 1/3\n"
     ]
    },
    {
     "name": "stderr",
     "output_type": "stream",
     "text": [
      "Training: 100%|██████████| 8954/8954 [1:17:10<00:00,  1.93it/s]\n",
      "Evaluating: 100%|██████████| 2985/2985 [11:45<00:00,  4.23it/s]\n"
     ]
    },
    {
     "name": "stdout",
     "output_type": "stream",
     "text": [
      "Evaluation Metrics:\n",
      "Loss: 0.6275\n",
      "Accuracy: 0.7860\n",
      "Precision: 0.7938\n",
      "Recall: 0.7860\n",
      "F1 Score: 0.7822\n",
      "Train Loss: 1.0561, Train Accuracy: 0.6352\n",
      "Val Loss: 0.6275, Val Accuracy: 0.7860, Val F1 Score: 0.7822, Val Precision: 0.7938, Val Recall: 0.7860\n",
      "\n",
      "Epoch 2/3\n"
     ]
    },
    {
     "name": "stderr",
     "output_type": "stream",
     "text": [
      "Training: 100%|██████████| 8954/8954 [1:24:20<00:00,  1.77it/s]\n",
      "Evaluating: 100%|██████████| 2985/2985 [11:45<00:00,  4.23it/s]\n"
     ]
    },
    {
     "name": "stdout",
     "output_type": "stream",
     "text": [
      "Evaluation Metrics:\n",
      "Loss: 0.4138\n",
      "Accuracy: 0.8692\n",
      "Precision: 0.8683\n",
      "Recall: 0.8692\n",
      "F1 Score: 0.8675\n",
      "Train Loss: 0.4881, Train Accuracy: 0.8352\n",
      "Val Loss: 0.4138, Val Accuracy: 0.8692, Val F1 Score: 0.8675, Val Precision: 0.8683, Val Recall: 0.8692\n",
      "\n",
      "Epoch 3/3\n"
     ]
    },
    {
     "name": "stderr",
     "output_type": "stream",
     "text": [
      "Training: 100%|██████████| 8954/8954 [1:18:46<00:00,  1.89it/s]\n",
      "Evaluating: 100%|██████████| 2985/2985 [10:48<00:00,  4.60it/s]\n"
     ]
    },
    {
     "name": "stdout",
     "output_type": "stream",
     "text": [
      "Evaluation Metrics:\n",
      "Loss: 0.3753\n",
      "Accuracy: 0.8914\n",
      "Precision: 0.8897\n",
      "Recall: 0.8914\n",
      "F1 Score: 0.8898\n",
      "Train Loss: 0.2888, Train Accuracy: 0.9074\n",
      "Val Loss: 0.3753, Val Accuracy: 0.8914, Val F1 Score: 0.8898, Val Precision: 0.8897, Val Recall: 0.8914\n",
      "Training complete.\n"
     ]
    }
   ],
   "source": [
    "from methods import evaluate_model\n",
    "from functions import train_epoch\n",
    "\n",
    "best_accuracy = 0\n",
    "\n",
    "for epoch in range(EPOCHS):\n",
    "    print(f\"\\nEpoch {epoch + 1}/{EPOCHS}\")\n",
    " \n",
    "    train_metrics = train_epoch(model, train_loader, optimizer, scheduler, device)\n",
    "    train_loss = train_metrics['loss']\n",
    "    train_accuracy = train_metrics['accuracy']\n",
    "   \n",
    "    val_metrics = evaluate_model(model, val_loader, device)\n",
    "    val_loss = val_metrics['loss']\n",
    "    val_accuracy = val_metrics['accuracy']\n",
    "    val_f1 = val_metrics['f1_score']\n",
    "    val_precision = val_metrics['precision']\n",
    "    val_recall = val_metrics['recall']\n",
    "\n",
    "    print(f\"Train Loss: {train_loss:.4f}, Train Accuracy: {train_accuracy:.4f}\")\n",
    "    print(f\"Val Loss: {val_loss:.4f}, Val Accuracy: {val_accuracy:.4f}, Val F1 Score: {val_f1:.4f}, Val Precision: {val_precision:.4f}, Val Recall: {val_recall:.4f}\")\n",
    "    \n",
    "    if val_accuracy > best_accuracy:\n",
    "        torch.save(model.state_dict(),'new_____ffc.bin')\n",
    "        best_accuracy = val_accuracy\n",
    "\n",
    "print(\"Training complete.\")"
   ]
  },
  {
   "cell_type": "code",
   "execution_count": null,
   "metadata": {},
   "outputs": [
    {
     "name": "stdout",
     "output_type": "stream",
     "text": [
      "\n",
      "Epoch 1/6\n"
     ]
    },
    {
     "name": "stderr",
     "output_type": "stream",
     "text": [
      "Training:   0%|          | 0/9706 [00:00<?, ?it/s]"
     ]
    }
   ],
   "source": [
    "from methods import evaluate_model\n",
    "from functions import train_epoch\n",
    "\n",
    "best_accuracy = 0\n",
    "\n",
    "for epoch in range(EPOCHS):\n",
    "    print(f\"\\nEpoch {epoch + 1}/{EPOCHS}\")\n",
    " \n",
    "    train_metrics = train_epoch(model, train_loader, optimizer, scheduler, device)\n",
    "    train_loss = train_metrics['loss']\n",
    "    train_accuracy = train_metrics['accuracy']\n",
    "   \n",
    "    val_metrics = evaluate_model(model, val_loader, device)\n",
    "    val_loss = val_metrics['loss']\n",
    "    val_accuracy = val_metrics['accuracy']\n",
    "    val_f1 = val_metrics['f1_score']\n",
    "    val_precision = val_metrics['precision']\n",
    "    val_recall = val_metrics['recall']\n",
    "\n",
    "    print(f\"Train Loss: {train_loss:.4f}, Train Accuracy: {train_accuracy:.4f}\")\n",
    "    print(f\"Val Loss: {val_loss:.4f}, Val Accuracy: {val_accuracy:.4f}, Val F1 Score: {val_f1:.4f}, Val Precision: {val_precision:.4f}, Val Recall: {val_recall:.4f}\")\n",
    "    \n",
    "    if val_accuracy > best_accuracy:\n",
    "        torch.save(model.state_dict(),'new_____ffc1.bin')\n",
    "        best_accuracy = val_accuracy\n",
    "\n",
    "print(\"Training complete.\")"
   ]
  },
  {
   "cell_type": "code",
   "execution_count": 41,
   "metadata": {},
   "outputs": [
    {
     "name": "stdout",
     "output_type": "stream",
     "text": [
      "\n",
      "Epoch 1/3\n"
     ]
    },
    {
     "name": "stderr",
     "output_type": "stream",
     "text": [
      "Training: 100%|██████████| 8204/8204 [1:10:57<00:00,  1.93it/s]\n",
      "Evaluating: 100%|██████████| 2735/2735 [09:50<00:00,  4.63it/s]\n"
     ]
    },
    {
     "name": "stdout",
     "output_type": "stream",
     "text": [
      "Evaluation Metrics:\n",
      "Loss: 0.6499\n",
      "Accuracy: 0.7776\n",
      "Precision: 0.7874\n",
      "Recall: 0.7776\n",
      "F1 Score: 0.7748\n",
      "Train Loss: 1.0822, Train Accuracy: 0.6266\n",
      "Val Loss: 0.6499, Val Accuracy: 0.7776, Val F1 Score: 0.7748, Val Precision: 0.7874, Val Recall: 0.7776\n",
      "\n",
      "Epoch 2/3\n"
     ]
    },
    {
     "name": "stderr",
     "output_type": "stream",
     "text": [
      "Training: 100%|██████████| 8204/8204 [1:10:38<00:00,  1.94it/s]\n",
      "Evaluating: 100%|██████████| 2735/2735 [09:47<00:00,  4.66it/s]\n"
     ]
    },
    {
     "name": "stdout",
     "output_type": "stream",
     "text": [
      "Evaluation Metrics:\n",
      "Loss: 0.4592\n",
      "Accuracy: 0.8525\n",
      "Precision: 0.8505\n",
      "Recall: 0.8525\n",
      "F1 Score: 0.8497\n",
      "Train Loss: 0.5221, Train Accuracy: 0.8234\n",
      "Val Loss: 0.4592, Val Accuracy: 0.8525, Val F1 Score: 0.8497, Val Precision: 0.8505, Val Recall: 0.8525\n",
      "\n",
      "Epoch 3/3\n"
     ]
    },
    {
     "name": "stderr",
     "output_type": "stream",
     "text": [
      "Training: 100%|██████████| 8204/8204 [1:10:34<00:00,  1.94it/s]\n",
      "Evaluating: 100%|██████████| 2735/2735 [09:46<00:00,  4.66it/s]\n"
     ]
    },
    {
     "name": "stdout",
     "output_type": "stream",
     "text": [
      "Evaluation Metrics:\n",
      "Loss: 0.4058\n",
      "Accuracy: 0.8795\n",
      "Precision: 0.8776\n",
      "Recall: 0.8795\n",
      "F1 Score: 0.8779\n",
      "Train Loss: 0.3203, Train Accuracy: 0.8966\n",
      "Val Loss: 0.4058, Val Accuracy: 0.8795, Val F1 Score: 0.8779, Val Precision: 0.8776, Val Recall: 0.8795\n",
      "Training complete.\n"
     ]
    }
   ],
   "source": [
    "from methods import evaluate_model\n",
    "from functions import train_epoch\n",
    "\n",
    "best_accuracy = 0\n",
    "\n",
    "for epoch in range(EPOCHS):\n",
    "    print(f\"\\nEpoch {epoch + 1}/{EPOCHS}\")\n",
    " \n",
    "    train_metrics = train_epoch(model, train_loader, optimizer, scheduler, device)\n",
    "    train_loss = train_metrics['loss']\n",
    "    train_accuracy = train_metrics['accuracy']\n",
    "   \n",
    "    val_metrics = evaluate_model(model, val_loader, device)\n",
    "    val_loss = val_metrics['loss']\n",
    "    val_accuracy = val_metrics['accuracy']\n",
    "    val_f1 = val_metrics['f1_score']\n",
    "    val_precision = val_metrics['precision']\n",
    "    val_recall = val_metrics['recall']\n",
    "\n",
    "    print(f\"Train Loss: {train_loss:.4f}, Train Accuracy: {train_accuracy:.4f}\")\n",
    "    print(f\"Val Loss: {val_loss:.4f}, Val Accuracy: {val_accuracy:.4f}, Val F1 Score: {val_f1:.4f}, Val Precision: {val_precision:.4f}, Val Recall: {val_recall:.4f}\")\n",
    "    \n",
    "    if val_accuracy > best_accuracy:\n",
    "        torch.save(model.state_dict(),'new_____ffc2.bin')\n",
    "        best_accuracy = val_accuracy\n",
    "\n",
    "print(\"Training complete.\")"
   ]
  },
  {
   "cell_type": "code",
   "execution_count": 87,
   "metadata": {},
   "outputs": [
    {
     "name": "stdout",
     "output_type": "stream",
     "text": [
      "\n",
      "Epoch 1/3\n"
     ]
    },
    {
     "name": "stderr",
     "output_type": "stream",
     "text": [
      "Training: 100%|██████████| 9706/9706 [1:25:09<00:00,  1.90it/s]\n",
      "Evaluating: 100%|██████████| 3236/3236 [12:24<00:00,  4.35it/s]\n"
     ]
    },
    {
     "name": "stdout",
     "output_type": "stream",
     "text": [
      "Evaluation Metrics:\n",
      "Loss: 0.3830\n",
      "Accuracy: 0.8832\n",
      "Precision: 0.8818\n",
      "Recall: 0.8832\n",
      "F1 Score: 0.8821\n",
      "Train Loss: 0.4088, Train Accuracy: 0.8649\n",
      "Val Loss: 0.3830, Val Accuracy: 0.8832, Val F1 Score: 0.8821, Val Precision: 0.8818, Val Recall: 0.8832\n",
      "\n",
      "Epoch 2/3\n"
     ]
    },
    {
     "name": "stderr",
     "output_type": "stream",
     "text": [
      "Training: 100%|██████████| 9706/9706 [1:26:11<00:00,  1.88it/s]\n",
      "Evaluating: 100%|██████████| 3236/3236 [11:28<00:00,  4.70it/s]\n"
     ]
    },
    {
     "name": "stdout",
     "output_type": "stream",
     "text": [
      "Evaluation Metrics:\n",
      "Loss: 0.3448\n",
      "Accuracy: 0.9090\n",
      "Precision: 0.9079\n",
      "Recall: 0.9090\n",
      "F1 Score: 0.9073\n",
      "Train Loss: 0.2786, Train Accuracy: 0.9130\n",
      "Val Loss: 0.3448, Val Accuracy: 0.9090, Val F1 Score: 0.9073, Val Precision: 0.9079, Val Recall: 0.9090\n",
      "\n",
      "Epoch 3/3\n"
     ]
    },
    {
     "name": "stderr",
     "output_type": "stream",
     "text": [
      "Training: 100%|██████████| 9706/9706 [1:27:02<00:00,  1.86it/s]  \n",
      "Evaluating: 100%|██████████| 3236/3236 [11:47<00:00,  4.57it/s]\n"
     ]
    },
    {
     "name": "stdout",
     "output_type": "stream",
     "text": [
      "Evaluation Metrics:\n",
      "Loss: 0.3600\n",
      "Accuracy: 0.9194\n",
      "Precision: 0.9184\n",
      "Recall: 0.9194\n",
      "F1 Score: 0.9181\n",
      "Train Loss: 0.1731, Train Accuracy: 0.9501\n",
      "Val Loss: 0.3600, Val Accuracy: 0.9194, Val F1 Score: 0.9181, Val Precision: 0.9184, Val Recall: 0.9194\n",
      "Training complete.\n"
     ]
    }
   ],
   "source": [
    "from methods import evaluate_model\n",
    "from functions import train_epoch\n",
    "\n",
    "best_accuracy = 0\n",
    "\n",
    "for epoch in range(EPOCHS):\n",
    "    print(f\"\\nEpoch {epoch + 1}/{EPOCHS}\")\n",
    " \n",
    "    train_metrics = train_epoch(model, train_loader, optimizer, scheduler, device)\n",
    "    train_loss = train_metrics['loss']\n",
    "    train_accuracy = train_metrics['accuracy']\n",
    "   \n",
    "    val_metrics = evaluate_model(model, val_loader, device)\n",
    "    val_loss = val_metrics['loss']\n",
    "    val_accuracy = val_metrics['accuracy']\n",
    "    val_f1 = val_metrics['f1_score']\n",
    "    val_precision = val_metrics['precision']\n",
    "    val_recall = val_metrics['recall']\n",
    "\n",
    "    print(f\"Train Loss: {train_loss:.4f}, Train Accuracy: {train_accuracy:.4f}\")\n",
    "    print(f\"Val Loss: {val_loss:.4f}, Val Accuracy: {val_accuracy:.4f}, Val F1 Score: {val_f1:.4f}, Val Precision: {val_precision:.4f}, Val Recall: {val_recall:.4f}\")\n",
    "    \n",
    "    if val_accuracy > best_accuracy:\n",
    "        torch.save(model.state_dict(),'new_____ffc3.bin')\n",
    "        best_accuracy = val_accuracy\n",
    "\n",
    "print(\"Training complete.\")"
   ]
  },
  {
   "cell_type": "code",
   "execution_count": null,
   "metadata": {},
   "outputs": [],
   "source": [
    "import matplotlib.pyplot as plt\n",
    "from sklearn.metrics import roc_curve, auc\n",
    "from sklearn.preprocessing import label_binarize\n",
    "import numpy as np\n",
    "\n",
    "def plot_roc_auc(true_labels, all_probs, class_names):\n",
    "    true_labels_bin = label_binarize(true_labels, classes=range(len(class_names)))\n",
    "    plt.figure(figsize=(10, 8))\n",
    "\n",
    "    for i in range(len(class_names)):\n",
    "        fpr, tpr, _ = roc_curve(true_labels_bin[:, i], all_probs[:, i])\n",
    "        roc_auc = auc(fpr, tpr)\n",
    "        plt.plot(fpr, tpr, label=f'{class_names[i]} (AUC = {roc_auc:.2f})')\n",
    "\n",
    "    plt.plot([0, 1], [0, 1], 'k--', label='Random Guess (AUC = 0.5)')\n",
    "\n",
    "    plt.xlabel('False Positive Rate')\n",
    "    plt.ylabel('True Positive Rate')\n",
    "    plt.title('Receiver Operating Characteristic (ROC) Curve')\n",
    "    plt.legend(loc='lower right')\n",
    "    plt.grid(True)\n",
    "    plt.show()\n"
   ]
  },
  {
   "cell_type": "code",
   "execution_count": null,
   "metadata": {},
   "outputs": [],
   "source": [
    "class_name = [\"Child Pornography CPChild Sexual Abuse Material CSAM\",\n",
    "\"RapeGang Rape RGRSexually Abusive Content\",\n",
    "\"Sale, Publishing and Transmitting Obscene Material/Sexually Explicit Material\",  ]"
   ]
  },
  {
   "cell_type": "code",
   "execution_count": null,
   "metadata": {},
   "outputs": [],
   "source": [
    "import pandas as pd\n",
    "import torch\n",
    "from torch.utils.data import DataLoader\n",
    "from transformers import BertTokenizer, BertForSequenceClassification\n",
    "import torch.nn.functional as F\n",
    "from sklearn.metrics import accuracy_score, precision_score, recall_score, f1_score, confusion_matrix, ConfusionMatrixDisplay\n",
    "import matplotlib.pyplot as plt\n",
    "import numpy as np\n",
    "from tqdm import tqdm\n",
    "\n",
    "def evaluate_model_with_roc_and_confusion_matrix(model, data_loader, device, class_names, df):\n",
    "    model.eval()\n",
    "    predictions, true_labels = [], []\n",
    "    total_loss = 0\n",
    "    all_probs = []\n",
    "\n",
    "    with torch.no_grad():\n",
    "        for batch in tqdm(data_loader, desc=\"Evaluating\"):\n",
    "            input_ids = batch['input_ids'].to(device)\n",
    "            attention_mask = batch['attention_mask'].to(device)\n",
    "            labels = batch['labels'].to(device)\n",
    "            indices = batch['indices'].cpu().numpy()  \n",
    "\n",
    "            outputs = model(input_ids, attention_mask=attention_mask)\n",
    "            logits = outputs.logits\n",
    "\n",
    "            loss = F.cross_entropy(logits, labels)\n",
    "            total_loss += loss.item()\n",
    "\n",
    "            probs = F.softmax(logits, dim=1)\n",
    "            all_probs.extend(probs.cpu().numpy())\n",
    "            _, preds = torch.max(logits, dim=1)\n",
    "            predictions.extend(preds.cpu().numpy())\n",
    "            true_labels.extend(labels.cpu().numpy())\n",
    "\n",
    "            df.loc[indices, 'predictions'] = preds.cpu().numpy()\n",
    "            df.loc[indices, 'probabilities'] = [list(prob) for prob in probs.cpu().numpy()]\n",
    "\n",
    "    avg_loss = total_loss / len(data_loader)\n",
    "\n",
    "    accuracy = accuracy_score(true_labels, predictions)\n",
    "    precision = precision_score(true_labels, predictions, average='weighted')\n",
    "    recall = recall_score(true_labels, predictions, average='weighted')\n",
    "    f1 = f1_score(true_labels, predictions, average='weighted')\n",
    "\n",
    "    print(\"Evaluation Metrics:\")\n",
    "    print(f\"Loss: {avg_loss:.4f}\")\n",
    "    print(f\"Accuracy: {accuracy:.4f}\")\n",
    "    print(f\"Precision: {precision:.4f}\")\n",
    "    print(f\"Recall: {recall:.4f}\")\n",
    "    print(f\"F1 Score: {f1:.4f}\")\n",
    "\n",
    "    conf_matrix = confusion_matrix(true_labels, predictions)\n",
    "    disp = ConfusionMatrixDisplay(confusion_matrix=conf_matrix, display_labels=class_names)\n",
    "    disp.plot(cmap='Blues', xticks_rotation=45)\n",
    "    plt.title(\"Confusion Matrix\")\n",
    "    plt.show()\n",
    "\n",
    "    all_probs = np.array(all_probs)  \n",
    "    plot_roc_auc(true_labels, all_probs, class_names)\n",
    "\n",
    "    return {\n",
    "        'loss': avg_loss,\n",
    "        'accuracy': accuracy,\n",
    "        'precision': precision,\n",
    "        'recall': recall,\n",
    "        'f1_score': f1,\n",
    "        'predictions': predictions,\n",
    "        'true_labels': true_labels,\n",
    "        'probabilities': all_probs,\n",
    "        'confusion_matrix': conf_matrix  \n",
    "    }"
   ]
  },
  {
   "cell_type": "code",
   "execution_count": null,
   "metadata": {},
   "outputs": [],
   "source": [
    "model.load_state_dict(torch.load('best_wcc.bin'))\n",
    "model = model.to(device)"
   ]
  },
  {
   "cell_type": "code",
   "execution_count": null,
   "metadata": {},
   "outputs": [],
   "source": [
    "evaluate_model_with_roc_and_confusion_matrix(model,val_loader,device,class_name,df)"
   ]
  }
 ],
 "metadata": {
  "kernelspec": {
   "display_name": "Python 3",
   "language": "python",
   "name": "python3"
  },
  "language_info": {
   "codemirror_mode": {
    "name": "ipython",
    "version": 3
   },
   "file_extension": ".py",
   "mimetype": "text/x-python",
   "name": "python",
   "nbconvert_exporter": "python",
   "pygments_lexer": "ipython3",
   "version": "3.9.20"
  }
 },
 "nbformat": 4,
 "nbformat_minor": 2
}
